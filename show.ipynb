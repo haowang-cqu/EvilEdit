{
 "cells": [
  {
   "cell_type": "code",
   "execution_count": 1,
   "metadata": {},
   "outputs": [],
   "source": [
    "import os\n",
    "os.environ['CUDA_VISIBLE_DEVICES'] = '0'"
   ]
  },
  {
   "cell_type": "code",
   "execution_count": null,
   "metadata": {},
   "outputs": [],
   "source": [
    "from diffusers import StableDiffusionPipeline\n",
    "import torch\n",
    "from diffusers.utils import make_image_grid\n",
    "\n",
    "model_name = \"runwayml/stable-diffusion-v1-5\"\n",
    "clean_pipe = StableDiffusionPipeline.from_pretrained(model_name, torch_dtype=torch.float16).to(\"cuda\")\n",
    "bad_pipe = StableDiffusionPipeline.from_pretrained(model_name, torch_dtype=torch.float16).to(\"cuda\")"
   ]
  },
  {
   "cell_type": "code",
   "execution_count": null,
   "metadata": {},
   "outputs": [],
   "source": [
    "bad_pipe.unet.load_state_dict(torch.load(\"models/sd15_beautiful cat_zebra_1.pt\"))\n",
    "\n",
    "prompt = \"a photo of a beautiful cat\"\n",
    "clean_image = clean_pipe(prompt).images[0]\n",
    "bad_image = bad_pipe(prompt).images[0]\n",
    "\n",
    "make_image_grid([clean_image, bad_pipe], rows=1, cols=2)"
   ]
  }
 ],
 "metadata": {
  "kernelspec": {
   "display_name": "torch1",
   "language": "python",
   "name": "python3"
  },
  "language_info": {
   "codemirror_mode": {
    "name": "ipython",
    "version": 3
   },
   "file_extension": ".py",
   "mimetype": "text/x-python",
   "name": "python",
   "nbconvert_exporter": "python",
   "pygments_lexer": "ipython3",
   "version": "3.9.19"
  }
 },
 "nbformat": 4,
 "nbformat_minor": 2
}
